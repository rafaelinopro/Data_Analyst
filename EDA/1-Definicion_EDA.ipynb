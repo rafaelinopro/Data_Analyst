{
 "cells": [
  {
   "cell_type": "markdown",
   "metadata": {},
   "source": [
    "![imagen](./img/ejercicios.png)"
   ]
  },
  {
   "cell_type": "markdown",
   "metadata": {},
   "source": [
    "# INFORMACIÓN DEL PROYECTO"
   ]
  },
  {
   "cell_type": "markdown",
   "metadata": {},
   "source": [
    "### TÍTULO"
   ]
  },
  {
   "cell_type": "code",
   "execution_count": null,
   "metadata": {},
   "outputs": [],
   "source": [
    "#Escribe el título del proyecto en Markdown"
   ]
  },
  {
   "attachments": {},
   "cell_type": "markdown",
   "metadata": {},
   "source": [
    "### **1. Analisis multivariable del perfil de las pacientes y del comportamiento de las citas en una consulta privada de ginecologia, obstetricia y reproduccion.**\n",
    "### **2. Analisis de variables obtenidas durante el control gestacional, con respecto a resultados perinatales.**"
   ]
  },
  {
   "cell_type": "markdown",
   "metadata": {},
   "source": [
    "### TEMA"
   ]
  },
  {
   "cell_type": "code",
   "execution_count": null,
   "metadata": {},
   "outputs": [],
   "source": [
    "# Describe brevemente el tema del proyecto en Markdown"
   ]
  },
  {
   "attachments": {},
   "cell_type": "markdown",
   "metadata": {},
   "source": [
    " En una consulta privada de ginecologia, obstetricia y reproduccion ubicada en la ciudad de Rafaela, prov de Santa Fe, Argentina, se implementó desde el año 2014 un sistema informatico de historias clinicas que, ademas de tener funcionalidades especificas para la especialidad, aloja todas la informacion en una base de datos Filemaker Pro. \n",
    " Hay campos de texto, fechas, numericos enteros y con decimales. Hay campos de edicion libre, y otros datos se completas a traves de un listado predefinido, o a traves de checkmarks. \n",
    "\n",
    " A lo largo de los años, pareciera que la principal utilidad del sistema es justamente registrar infoacion para ser utilizada cuando la paciente vuelve, y poder acceder facilmente a su historial con un par de clicks. Sin embargo, sabemos que se han ido acumulando cientos y miles de datos con el uso cotidiano, pero estan escondidos en la maquinaria de la base de datos y nadie los mira. \n",
    "\n",
    " Seguramente esos datos nos pueden llegar a decir algunas cosas que no sabemos sobre la performance de la consulta en terminos de productividad, conocer que tipo de pacientes son los que se acercan  (de que aseguradoras, de que edad, adonde viven). Por otro lado, desde el punto de vista estrictamente medico, se almacenan datos que podrian demostrar alguna correlacion entre variables, que hoy desconocemos, o simplemente quisieramos corroborar. \n",
    "\n",
    "Por este motivo, vamos a realizar un analisis exploratorio de datos sobre 3 tablas de la base de dartos: datos de los pacientes, datos de las citas, datos de los embarazos\n",
    "\n",
    "\n"
   ]
  },
  {
   "cell_type": "markdown",
   "metadata": {},
   "source": []
  },
  {
   "cell_type": "markdown",
   "metadata": {},
   "source": [
    "### HIPÓTESIS"
   ]
  },
  {
   "cell_type": "markdown",
   "metadata": {},
   "source": [
    "Define aquí lo que será la hipótesis de tu proyecto.\n",
    "Puede que tengas más de una, pero tu proyecto lo harás teniendo una principal hipótesis."
   ]
  },
  {
   "cell_type": "code",
   "execution_count": null,
   "metadata": {},
   "outputs": [],
   "source": [
    "# Escribe tu hipótesis principal en Markdown"
   ]
  },
  {
   "cell_type": "markdown",
   "metadata": {},
   "source": []
  },
  {
   "attachments": {},
   "cell_type": "markdown",
   "metadata": {},
   "source": [
    "#### **Hipotesis principal:**\n",
    "1. **Cual es el perfil de pacientes que solicitan cita en la consulta? Edad, aseguradora, localidad de residencia**\n",
    "2. **Cual es el comportamiento de las citas en el tiempo segun: Cantidad por mes, tipo de cita y aseguradora?**\n",
    "\n",
    "\n"
   ]
  },
  {
   "cell_type": "code",
   "execution_count": null,
   "metadata": {},
   "outputs": [],
   "source": [
    "# Escribe más hipótesis si las hubiera en Markdown"
   ]
  },
  {
   "attachments": {},
   "cell_type": "markdown",
   "metadata": {},
   "source": [
    "1. Cual es el comportamiento de las citas de primera vez en el tiempo?\n",
    "4. Cual es la tasa de repitencia y que tiempo promedio pasa entre la primera y la segunda cita?\n",
    "5. Cual es el porcentaje relativo entre los tipos de cita? Como evolucinan a traves de los años?\n",
    "6. Como se relaciona el peso materno (absoluto y diferencial) en sem 25, 30 y 35,  con el peso del RN, la edad gestacional al nacimiento y la internacion en neonatologia. "
   ]
  },
  {
   "cell_type": "markdown",
   "metadata": {},
   "source": [
    "## OBTENCIÓN DE LOS DATOS"
   ]
  },
  {
   "cell_type": "markdown",
   "metadata": {},
   "source": [
    "### DATASETS Y FUENTES ALTERNATIVAS DE DATOS"
   ]
  },
  {
   "cell_type": "markdown",
   "metadata": {},
   "source": [
    "Incluye aquí una breve descripción del dataset o datasets de los que partirás para poder evaluar tu hipótesis. <br>\n",
    "También incluye el origen de estos datos y su fuente."
   ]
  },
  {
   "cell_type": "code",
   "execution_count": null,
   "metadata": {},
   "outputs": [],
   "source": [
    "# describe la fuente de tus datos e incluye los links en Markdown"
   ]
  },
  {
   "attachments": {},
   "cell_type": "markdown",
   "metadata": {},
   "source": [
    "Los datasets son archivos .csv y/o excel que se exportan desde la interface del sistema de Filemaker Pro, a partir de las tablas de la base de datos relacional. "
   ]
  },
  {
   "cell_type": "markdown",
   "metadata": {},
   "source": [
    "Muestra mediante un head() los principales datasets con los que vas a trabajar"
   ]
  },
  {
   "cell_type": "code",
   "execution_count": 1,
   "metadata": {},
   "outputs": [],
   "source": [
    "import pandas as pd\n",
    "import numpy as np"
   ]
  },
  {
   "cell_type": "code",
   "execution_count": 11,
   "metadata": {},
   "outputs": [
    {
     "name": "stderr",
     "output_type": "stream",
     "text": [
      "c:\\Users\\Rafael Ortega\\AppData\\Local\\Programs\\Python\\Python37\\lib\\site-packages\\openpyxl\\styles\\stylesheet.py:226: UserWarning: Workbook contains no default style, apply openpyxl's default\n",
      "  warn(\"Workbook contains no default style, apply openpyxl's default\")\n"
     ]
    }
   ],
   "source": [
    "datos_pacientes = pd.read_excel('./Datasets EDA/DATASETS EDA 2023 - BORRADORES/Datos de pacientes.xlsx')\n",
    "citas = pd.read_csv('./Datasets EDA/DATASETS EDA 2023 - BORRADORES/citas SIIRAGO.csv')"
   ]
  },
  {
   "cell_type": "code",
   "execution_count": 9,
   "metadata": {},
   "outputs": [
    {
     "data": {
      "text/html": [
       "<div>\n",
       "<style scoped>\n",
       "    .dataframe tbody tr th:only-of-type {\n",
       "        vertical-align: middle;\n",
       "    }\n",
       "\n",
       "    .dataframe tbody tr th {\n",
       "        vertical-align: top;\n",
       "    }\n",
       "\n",
       "    .dataframe thead th {\n",
       "        text-align: right;\n",
       "    }\n",
       "</style>\n",
       "<table border=\"1\" class=\"dataframe\">\n",
       "  <thead>\n",
       "    <tr style=\"text-align: right;\">\n",
       "      <th></th>\n",
       "      <th>Apellido</th>\n",
       "      <th>Comentarios</th>\n",
       "      <th>Correo electronico</th>\n",
       "      <th>Direccion</th>\n",
       "      <th>DNI</th>\n",
       "      <th>Edad</th>\n",
       "      <th>Fecha de creacion del registro</th>\n",
       "      <th>Fecha Nacimiento</th>\n",
       "      <th>ID Paciente</th>\n",
       "      <th>Localidad</th>\n",
       "      <th>Nº de Afiliado</th>\n",
       "      <th>Nombres</th>\n",
       "      <th>Obra Social</th>\n",
       "      <th>Plan Obra Social</th>\n",
       "      <th>Telefono Fijo</th>\n",
       "      <th>Telefono Móvil</th>\n",
       "    </tr>\n",
       "  </thead>\n",
       "  <tbody>\n",
       "    <tr>\n",
       "      <th>0</th>\n",
       "      <td>DePrueba</td>\n",
       "      <td>esposa del dr.</td>\n",
       "      <td>ivanags@hotmail.com</td>\n",
       "      <td>9 de Julio 170 - Planta Alta</td>\n",
       "      <td>27480893.0</td>\n",
       "      <td>43 años</td>\n",
       "      <td>NaT</td>\n",
       "      <td>1979-10-22</td>\n",
       "      <td>1</td>\n",
       "      <td>Rafaela</td>\n",
       "      <td>2.748089e+07</td>\n",
       "      <td>Ivana</td>\n",
       "      <td>IAPOS</td>\n",
       "      <td>NaN</td>\n",
       "      <td>435015</td>\n",
       "      <td>342154073978</td>\n",
       "    </tr>\n",
       "    <tr>\n",
       "      <th>1</th>\n",
       "      <td>Zurbriggen</td>\n",
       "      <td>NaN</td>\n",
       "      <td>NaN</td>\n",
       "      <td>Chiaraviglio 198</td>\n",
       "      <td>14338475.0</td>\n",
       "      <td>61 años</td>\n",
       "      <td>NaT</td>\n",
       "      <td>1961-06-16</td>\n",
       "      <td>2</td>\n",
       "      <td>Rafaela</td>\n",
       "      <td>1.433848e+07</td>\n",
       "      <td>María Cristina</td>\n",
       "      <td>OSECAC</td>\n",
       "      <td>NaN</td>\n",
       "      <td>437113</td>\n",
       "      <td>NaN</td>\n",
       "    </tr>\n",
       "    <tr>\n",
       "      <th>2</th>\n",
       "      <td>Zoratti</td>\n",
       "      <td>NaN</td>\n",
       "      <td>graciela_ferreteria@hotmail.com</td>\n",
       "      <td>Alvear 946</td>\n",
       "      <td>17008004.0</td>\n",
       "      <td>58 años</td>\n",
       "      <td>NaT</td>\n",
       "      <td>1964-07-24</td>\n",
       "      <td>3</td>\n",
       "      <td>Rafaela</td>\n",
       "      <td>1.700800e+07</td>\n",
       "      <td>Graciela</td>\n",
       "      <td>CENTRO ASISTENCIAL</td>\n",
       "      <td>NaN</td>\n",
       "      <td>NaN</td>\n",
       "      <td>15683213</td>\n",
       "    </tr>\n",
       "    <tr>\n",
       "      <th>3</th>\n",
       "      <td>Trossero</td>\n",
       "      <td>NaN</td>\n",
       "      <td>dtrossero@hotmail.com</td>\n",
       "      <td>NaN</td>\n",
       "      <td>29215013.0</td>\n",
       "      <td>NaN</td>\n",
       "      <td>NaT</td>\n",
       "      <td>NaT</td>\n",
       "      <td>4</td>\n",
       "      <td>Ataliva</td>\n",
       "      <td>2.921501e+07</td>\n",
       "      <td>Daniela Laura</td>\n",
       "      <td>CENTRO ASISTENCIAL</td>\n",
       "      <td>NaN</td>\n",
       "      <td>NaN</td>\n",
       "      <td>03493 15405038</td>\n",
       "    </tr>\n",
       "    <tr>\n",
       "      <th>4</th>\n",
       "      <td>Ingaramo</td>\n",
       "      <td>NaN</td>\n",
       "      <td>flia.vinderola@hotmail.com</td>\n",
       "      <td>Chacabuco 347</td>\n",
       "      <td>6480084.0</td>\n",
       "      <td>81 años</td>\n",
       "      <td>NaT</td>\n",
       "      <td>1941-06-13</td>\n",
       "      <td>5</td>\n",
       "      <td>Rafaela</td>\n",
       "      <td>6.049401e+17</td>\n",
       "      <td>Alcira</td>\n",
       "      <td>SANCOR</td>\n",
       "      <td>NaN</td>\n",
       "      <td>504349</td>\n",
       "      <td>15612356</td>\n",
       "    </tr>\n",
       "  </tbody>\n",
       "</table>\n",
       "</div>"
      ],
      "text/plain": [
       "     Apellido     Comentarios               Correo electronico  \\\n",
       "0    DePrueba  esposa del dr.              ivanags@hotmail.com   \n",
       "1  Zurbriggen             NaN                              NaN   \n",
       "2     Zoratti             NaN  graciela_ferreteria@hotmail.com   \n",
       "3    Trossero             NaN            dtrossero@hotmail.com   \n",
       "4    Ingaramo             NaN       flia.vinderola@hotmail.com   \n",
       "\n",
       "                      Direccion         DNI     Edad  \\\n",
       "0  9 de Julio 170 - Planta Alta  27480893.0  43 años   \n",
       "1              Chiaraviglio 198  14338475.0  61 años   \n",
       "2                    Alvear 946  17008004.0  58 años   \n",
       "3                           NaN  29215013.0      NaN   \n",
       "4                 Chacabuco 347   6480084.0  81 años   \n",
       "\n",
       "  Fecha de creacion del registro Fecha Nacimiento  ID Paciente Localidad  \\\n",
       "0                            NaT       1979-10-22            1   Rafaela   \n",
       "1                            NaT       1961-06-16            2   Rafaela   \n",
       "2                            NaT       1964-07-24            3   Rafaela   \n",
       "3                            NaT              NaT            4   Ataliva   \n",
       "4                            NaT       1941-06-13            5   Rafaela   \n",
       "\n",
       "   Nº de Afiliado         Nombres         Obra Social Plan Obra Social  \\\n",
       "0    2.748089e+07           Ivana               IAPOS              NaN   \n",
       "1    1.433848e+07  María Cristina              OSECAC              NaN   \n",
       "2    1.700800e+07        Graciela  CENTRO ASISTENCIAL              NaN   \n",
       "3    2.921501e+07   Daniela Laura  CENTRO ASISTENCIAL              NaN   \n",
       "4    6.049401e+17          Alcira              SANCOR              NaN   \n",
       "\n",
       "  Telefono Fijo  Telefono Móvil  \n",
       "0        435015    342154073978  \n",
       "1        437113             NaN  \n",
       "2           NaN        15683213  \n",
       "3           NaN  03493 15405038  \n",
       "4        504349        15612356  "
      ]
     },
     "execution_count": 9,
     "metadata": {},
     "output_type": "execute_result"
    }
   ],
   "source": [
    "# Primer dataset\n",
    "datos_pacientes.head()"
   ]
  },
  {
   "cell_type": "code",
   "execution_count": 12,
   "metadata": {},
   "outputs": [
    {
     "data": {
      "text/html": [
       "<div>\n",
       "<style scoped>\n",
       "    .dataframe tbody tr th:only-of-type {\n",
       "        vertical-align: middle;\n",
       "    }\n",
       "\n",
       "    .dataframe tbody tr th {\n",
       "        vertical-align: top;\n",
       "    }\n",
       "\n",
       "    .dataframe thead th {\n",
       "        text-align: right;\n",
       "    }\n",
       "</style>\n",
       "<table border=\"1\" class=\"dataframe\">\n",
       "  <thead>\n",
       "    <tr style=\"text-align: right;\">\n",
       "      <th></th>\n",
       "      <th>2013</th>\n",
       "      <th>Ortega</th>\n",
       "      <th>1</th>\n",
       "      <th>1.1</th>\n",
       "      <th>Unnamed: 4</th>\n",
       "      <th>Unnamed: 5</th>\n",
       "      <th>Unnamed: 6</th>\n",
       "      <th>Unnamed: 7</th>\n",
       "      <th>Unnamed: 8</th>\n",
       "      <th>Unnamed: 9</th>\n",
       "      <th>...</th>\n",
       "      <th>Unnamed: 38</th>\n",
       "      <th>Unnamed: 39</th>\n",
       "      <th>Unnamed: 40</th>\n",
       "      <th>Unnamed: 41</th>\n",
       "      <th>Ginecológica</th>\n",
       "      <th>Ginecológica.1</th>\n",
       "      <th>Unnamed: 44</th>\n",
       "      <th>Unnamed: 45</th>\n",
       "      <th>Unnamed: 46</th>\n",
       "      <th>Unnamed: 47</th>\n",
       "    </tr>\n",
       "  </thead>\n",
       "  <tbody>\n",
       "    <tr>\n",
       "      <th>0</th>\n",
       "      <td>2013.0</td>\n",
       "      <td>Ortega</td>\n",
       "      <td>1.0</td>\n",
       "      <td>1.0</td>\n",
       "      <td>NaN</td>\n",
       "      <td>NaN</td>\n",
       "      <td>NaN</td>\n",
       "      <td>NaN</td>\n",
       "      <td>NaN</td>\n",
       "      <td>NaN</td>\n",
       "      <td>...</td>\n",
       "      <td>NaN</td>\n",
       "      <td>NaN</td>\n",
       "      <td>NaN</td>\n",
       "      <td>NaN</td>\n",
       "      <td>Ginecológica</td>\n",
       "      <td>Ginecológica</td>\n",
       "      <td>NaN</td>\n",
       "      <td>NaN</td>\n",
       "      <td>NaN</td>\n",
       "      <td>NaN</td>\n",
       "    </tr>\n",
       "    <tr>\n",
       "      <th>1</th>\n",
       "      <td>2013.0</td>\n",
       "      <td>Ortega</td>\n",
       "      <td>1.0</td>\n",
       "      <td>1.0</td>\n",
       "      <td>NaN</td>\n",
       "      <td>NaN</td>\n",
       "      <td>NaN</td>\n",
       "      <td>NaN</td>\n",
       "      <td>NaN</td>\n",
       "      <td>NaN</td>\n",
       "      <td>...</td>\n",
       "      <td>NaN</td>\n",
       "      <td>NaN</td>\n",
       "      <td>NaN</td>\n",
       "      <td>NaN</td>\n",
       "      <td>Suelo pélvico</td>\n",
       "      <td>Suelo pélvico</td>\n",
       "      <td>NaN</td>\n",
       "      <td>NaN</td>\n",
       "      <td>NaN</td>\n",
       "      <td>NaN</td>\n",
       "    </tr>\n",
       "    <tr>\n",
       "      <th>2</th>\n",
       "      <td>2013.0</td>\n",
       "      <td>Ortega</td>\n",
       "      <td>1.0</td>\n",
       "      <td>1.0</td>\n",
       "      <td>NaN</td>\n",
       "      <td>NaN</td>\n",
       "      <td>NaN</td>\n",
       "      <td>NaN</td>\n",
       "      <td>NaN</td>\n",
       "      <td>NaN</td>\n",
       "      <td>...</td>\n",
       "      <td>NaN</td>\n",
       "      <td>NaN</td>\n",
       "      <td>NaN</td>\n",
       "      <td>NaN</td>\n",
       "      <td>Ginecológica</td>\n",
       "      <td>Ginecológica</td>\n",
       "      <td>NaN</td>\n",
       "      <td>NaN</td>\n",
       "      <td>NaN</td>\n",
       "      <td>NaN</td>\n",
       "    </tr>\n",
       "    <tr>\n",
       "      <th>3</th>\n",
       "      <td>2013.0</td>\n",
       "      <td>Ortega</td>\n",
       "      <td>1.0</td>\n",
       "      <td>1.0</td>\n",
       "      <td>NaN</td>\n",
       "      <td>NaN</td>\n",
       "      <td>NaN</td>\n",
       "      <td>NaN</td>\n",
       "      <td>NaN</td>\n",
       "      <td>NaN</td>\n",
       "      <td>...</td>\n",
       "      <td>NaN</td>\n",
       "      <td>NaN</td>\n",
       "      <td>NaN</td>\n",
       "      <td>NaN</td>\n",
       "      <td>Suelo pélvico</td>\n",
       "      <td>Suelo pélvico</td>\n",
       "      <td>NaN</td>\n",
       "      <td>NaN</td>\n",
       "      <td>NaN</td>\n",
       "      <td>NaN</td>\n",
       "    </tr>\n",
       "    <tr>\n",
       "      <th>4</th>\n",
       "      <td>2013.0</td>\n",
       "      <td>Ortega</td>\n",
       "      <td>1.0</td>\n",
       "      <td>1.0</td>\n",
       "      <td>NaN</td>\n",
       "      <td>NaN</td>\n",
       "      <td>NaN</td>\n",
       "      <td>NaN</td>\n",
       "      <td>NaN</td>\n",
       "      <td>NaN</td>\n",
       "      <td>...</td>\n",
       "      <td>NaN</td>\n",
       "      <td>NaN</td>\n",
       "      <td>NaN</td>\n",
       "      <td>NaN</td>\n",
       "      <td>Ginecológica</td>\n",
       "      <td>Ginecológica</td>\n",
       "      <td>NaN</td>\n",
       "      <td>NaN</td>\n",
       "      <td>NaN</td>\n",
       "      <td>NaN</td>\n",
       "    </tr>\n",
       "  </tbody>\n",
       "</table>\n",
       "<p>5 rows × 48 columns</p>\n",
       "</div>"
      ],
      "text/plain": [
       "     2013  Ortega    1  1.1 Unnamed: 4  Unnamed: 5  Unnamed: 6  Unnamed: 7  \\\n",
       "0  2013.0  Ortega  1.0  1.0        NaN         NaN         NaN         NaN   \n",
       "1  2013.0  Ortega  1.0  1.0        NaN         NaN         NaN         NaN   \n",
       "2  2013.0  Ortega  1.0  1.0        NaN         NaN         NaN         NaN   \n",
       "3  2013.0  Ortega  1.0  1.0        NaN         NaN         NaN         NaN   \n",
       "4  2013.0  Ortega  1.0  1.0        NaN         NaN         NaN         NaN   \n",
       "\n",
       "   Unnamed: 8  Unnamed: 9  ...  Unnamed: 38 Unnamed: 39  Unnamed: 40  \\\n",
       "0         NaN         NaN  ...          NaN         NaN          NaN   \n",
       "1         NaN         NaN  ...          NaN         NaN          NaN   \n",
       "2         NaN         NaN  ...          NaN         NaN          NaN   \n",
       "3         NaN         NaN  ...          NaN         NaN          NaN   \n",
       "4         NaN         NaN  ...          NaN         NaN          NaN   \n",
       "\n",
       "   Unnamed: 41   Ginecológica Ginecológica.1 Unnamed: 44 Unnamed: 45  \\\n",
       "0          NaN   Ginecológica   Ginecológica         NaN         NaN   \n",
       "1          NaN  Suelo pélvico  Suelo pélvico         NaN         NaN   \n",
       "2          NaN   Ginecológica   Ginecológica         NaN         NaN   \n",
       "3          NaN  Suelo pélvico  Suelo pélvico         NaN         NaN   \n",
       "4          NaN   Ginecológica   Ginecológica         NaN         NaN   \n",
       "\n",
       "   Unnamed: 46  Unnamed: 47  \n",
       "0          NaN          NaN  \n",
       "1          NaN          NaN  \n",
       "2          NaN          NaN  \n",
       "3          NaN          NaN  \n",
       "4          NaN          NaN  \n",
       "\n",
       "[5 rows x 48 columns]"
      ]
     },
     "execution_count": 12,
     "metadata": {},
     "output_type": "execute_result"
    }
   ],
   "source": [
    "# Siguiente dataset...\n",
    "citas.head()\n"
   ]
  },
  {
   "attachments": {},
   "cell_type": "markdown",
   "metadata": {},
   "source": [
    "#### Tengo el problema que al exportar las tablas con .csv, no se exporta el nombre de la columna. Entonces deberia descargarlos de otra manera, y ver si puedo crear una lista con ellos, y posteriormente agregarlos como nombresd e columan.  O bien exportar directamente a excel, que si me pone los nombres de los campos como nombres de columnas. Supongo que eso lo puedo hacer porque el n de la muestra es bajo."
   ]
  },
  {
   "cell_type": "code",
   "execution_count": null,
   "metadata": {},
   "outputs": [],
   "source": []
  }
 ],
 "metadata": {
  "kernelspec": {
   "display_name": "Python 3",
   "language": "python",
   "name": "python3"
  },
  "language_info": {
   "codemirror_mode": {
    "name": "ipython",
    "version": 3
   },
   "file_extension": ".py",
   "mimetype": "text/x-python",
   "name": "python",
   "nbconvert_exporter": "python",
   "pygments_lexer": "ipython3",
   "version": "3.7.4"
  },
  "orig_nbformat": 4,
  "vscode": {
   "interpreter": {
    "hash": "244b25bc1ea93edf03718d777d4c317abce2e0e460fa7a407209496d6dd6f33e"
   }
  }
 },
 "nbformat": 4,
 "nbformat_minor": 2
}
