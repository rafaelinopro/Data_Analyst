{
 "cells": [
  {
   "cell_type": "code",
   "execution_count": 2,
   "metadata": {},
   "outputs": [
    {
     "name": "stdout",
     "output_type": "stream",
     "text": [
      "backcall==0.2.0\n",
      "colorama==0.4.6\n",
      "cycler==0.11.0\n",
      "debugpy==1.6.6\n",
      "decorator==5.1.1\n",
      "entrypoints==0.4\n",
      "fonttools==4.38.0\n",
      "ipykernel==6.16.2\n",
      "ipython==7.34.0\n",
      "jedi==0.18.2\n",
      "joblib==1.2.0\n",
      "jupyter_client==7.4.9\n",
      "jupyter_core==4.12.0\n",
      "kiwisolver==1.4.4\n",
      "matplotlib==3.5.3\n",
      "matplotlib-inline==0.1.6\n",
      "nest-asyncio==1.5.6\n",
      "numpy==1.21.6\n",
      "packaging==23.0\n",
      "pandas==1.3.5\n",
      "parso==0.8.3\n",
      "pickleshare==0.7.5\n",
      "Pillow==9.4.0\n",
      "prompt-toolkit==3.0.38\n",
      "psutil==5.9.4\n",
      "Pygments==2.14.0\n",
      "pyparsing==3.0.9\n",
      "python-dateutil==2.8.2\n",
      "pytz==2023.3\n",
      "pywin32==306\n",
      "pyzmq==25.0.2\n",
      "scikit-learn==1.0.2\n",
      "scipy==1.7.3\n",
      "seaborn==0.12.2\n",
      "six==1.16.0\n",
      "threadpoolctl==3.1.0\n",
      "tornado==6.2\n",
      "traitlets==5.9.0\n",
      "typing_extensions==4.5.0\n",
      "wcwidth==0.2.6\n",
      "Note: you may need to restart the kernel to use updated packages.\n"
     ]
    }
   ],
   "source": [
    "pip freeze"
   ]
  },
  {
   "cell_type": "code",
   "execution_count": 5,
   "metadata": {},
   "outputs": [],
   "source": [
    "import numpy as np\n",
    "import pandas as pd\n",
    "import matplotlib.pyplot as plt\n",
    "import seaborn as sns\n",
    "import sklearn as sk"
   ]
  }
 ],
 "metadata": {
  "kernelspec": {
   "display_name": "EDA",
   "language": "python",
   "name": "python3"
  },
  "language_info": {
   "codemirror_mode": {
    "name": "ipython",
    "version": 3
   },
   "file_extension": ".py",
   "mimetype": "text/x-python",
   "name": "python",
   "nbconvert_exporter": "python",
   "pygments_lexer": "ipython3",
   "version": "3.7.4"
  },
  "orig_nbformat": 4
 },
 "nbformat": 4,
 "nbformat_minor": 2
}
