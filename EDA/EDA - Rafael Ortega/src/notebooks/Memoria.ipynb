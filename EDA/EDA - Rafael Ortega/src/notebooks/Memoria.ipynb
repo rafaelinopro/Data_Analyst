{
 "cells": [
  {
   "attachments": {},
   "cell_type": "markdown",
   "metadata": {},
   "source": [
    "## **Memoria**\n",
    "\n",
    "En que consisten los datos que vamos a analizar?\n",
    "  1. Datos personales de pacientes.\n",
    "  2. Datos de citas de esos pacientes.\n",
    "  3. Datos de embarazos de esos pacientes.\n",
    "\n",
    "\n",
    "Las preguntas principales:\n",
    "1. A:\n",
    "    1. ¿Que edad tenian los pacientes cuando solicitaron cita por primera vez?\n",
    "    2. ¿De que localidad son?\n",
    "    3. ¿Cual es la distrubicion de cada aseguradora?\n",
    "    4. ¿Cuantas nuevas hay por un periodo mensual/anual?\n",
    "\n",
    "2. B:\n",
    "    1. Definir 3 tipos de consultas: Ginecologicas, Obstetricas, Reproduccion\n",
    "       1. Obstetricas:  Cuando la paciente consulta porque esta embarazada\n",
    "       2. Reproduccion: Cuando la paciente consulta porque no consigue un embarazo.\n",
    "       3. Ginecologicas: Cualquier otro motivo de consulta. \n",
    "    2. ¿Como se distribuyen estos 3 tipos de consulta? En su totalidad y su variacion por periodos mensualaes/anuales. \n",
    "    3. Definir si existió segunda cita. Tasa de repitencia.\n",
    "    4. Definir cuanto tiempo pasó entre la primera y segunda cita.\n",
    "    5. Agrupar por tipo de cita los items 3 y 4.\n",
    "\n",
    "3. C:\n",
    "    1. Identificar el peso en la semana 30 de gestacion +/- 1 sem.\n",
    "    2. Identificar los registros con diabetes gestacional. \n",
    "    3. Relacionarlo con el peso fetal al nacimiento.\n",
    "    4. Relacionarlo con la edad gestacional al nacimiento.\n",
    "    5. \n",
    "\n",
    "\n",
    "\n"
   ]
  },
  {
   "attachments": {},
   "cell_type": "markdown",
   "metadata": {},
   "source": [
    "**Comienzo limpieza de 1er data set: Datos de pacientes.xlsx**\n",
    "1. ***Observaciones***  \n",
    "   \n",
    "   - Al ejecutar un .info(), me doy cuenta que los datos no estan completos. Una de las variables mas importantes del analisis, y por lo tanto actúa como dato limitante, es la fecha de nacimiento de la paciente.  \n",
    "   - Otra inquietud que me surge es si hay algun registro duplicado, porque los DNI deben ser unicos.  \n",
    "   Identifique las columnas que no serán útiles: Comentarios, correo electronico, telefono fijo, telefono movil, plan de obra social, número de afiliado y direccion.  \n",
    "   - Al ver los tipos de datos, me doy cuenta que los DNI estan interpretados como Float. No los voy a necesitar  para el analisis propiamente dicho, solo para asegurar que son registros únicos. Asi que los dejo como float. \n",
    "   - La columna edad es Object, porque tiene la palabra \"años\".\n",
    "   - La fecha de nacimiento tiene la hora:min:seg.\n",
    "   - La primera fila es un dato de prueba.\n",
    "   - Obra Social es un termino regional que puede dar confusión si un extranjero lee los datos. \n",
    "   - Fecha de creacion del registro es un nombre de columna muy largo. \n",
    "\n",
    "2. ***Limpieza***  \n",
    "   \n",
    "   En base a estas observaciones, la limpieza consistirá en:  \n",
    "   - Limitar los registros a aquellos que tengan fecha de nacimiento,  y DNI unico, eliminando los que no tengan fecha de nacimiento y los DNI duplicados. En este ultimo caso, se eliminarán los registros duplicados que menos datos contengan.  \n",
    "   - Se eliminarán las columnas que no son útiles. \n",
    "   - Se eliminará la primera fila. \n",
    "   - Se eliminará el string \" años\" de la edad, y se convertirá a int. \n",
    "   - Se eliminarán las horas:min:seg de la columna Fecha de Nacimiento.  \n",
    "   - Se modificará el nombre de la columna \"Fecha de creacion del registro\" por un nombre corto \"fecha_creacion\".  \n",
    "   - Se modificará el nombre de la columna \"Obra Social\" por el nombre \"Aseguradora\"\n"
   ]
  }
 ],
 "metadata": {
  "language_info": {
   "name": "python"
  },
  "orig_nbformat": 4
 },
 "nbformat": 4,
 "nbformat_minor": 2
}
